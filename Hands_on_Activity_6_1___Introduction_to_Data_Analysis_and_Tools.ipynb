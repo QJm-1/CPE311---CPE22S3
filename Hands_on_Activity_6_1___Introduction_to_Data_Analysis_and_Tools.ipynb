{
  "nbformat": 4,
  "nbformat_minor": 0,
  "metadata": {
    "colab": {
      "provenance": []
    },
    "kernelspec": {
      "name": "python3",
      "display_name": "Python 3"
    },
    "language_info": {
      "name": "python"
    }
  },
  "cells": [
    {
      "cell_type": "markdown",
      "source": [
        "#Hands-on Activity 6.1 | Introduction to Data Analysis and Tools\n"
      ],
      "metadata": {
        "id": "cNOaOA3ydyF4"
      }
    },
    {
      "cell_type": "markdown",
      "source": [
        "CPE311 Computational Thinking with Python\n",
        "\n",
        "Name: **Cabacungan, John Martin C.**\n",
        "\n",
        "Section: **CPE22S3**\n",
        "\n",
        "Performed on: 03/06/2024\n",
        "\n",
        "Submitted on: 03/06/2024\n",
        "\n",
        "Submitted to: Engr. Roman M. Richard"
      ],
      "metadata": {
        "id": "Ed7Rk4_yd2i_"
      }
    },
    {
      "cell_type": "markdown",
      "source": [
        "#6.1 Intended Learning Outcome\n",
        "- Use pandas and numpy data analysis tools.\n",
        "\n",
        "- Demonstrate how to analyze data using numpy and pandas"
      ],
      "metadata": {
        "id": "pKhkXmQTedcn"
      }
    },
    {
      "cell_type": "markdown",
      "source": [
        "#6.2 Resources:\n",
        "\n",
        "*   Personal Computer\n",
        "*   Jupyter Notebook\n",
        "*   Internet Connection"
      ],
      "metadata": {
        "id": "TPULQKMFepve"
      }
    },
    {
      "cell_type": "markdown",
      "source": [
        "#6.3 Supplementary Activities:\n",
        "Exercise 1\n",
        "Run the given code below for exercises 1 and 2, perform the given tasks without using any Python modules"
      ],
      "metadata": {
        "id": "bjza95i8e9Zv"
      }
    },
    {
      "cell_type": "code",
      "execution_count": 3,
      "metadata": {
        "id": "fIu0Ioc4dpXk"
      },
      "outputs": [],
      "source": [
        "import random\n",
        "random.seed(0)\n",
        "salaries = [round(random.random()*1000000, -3) for _ in range(100)]"
      ]
    },
    {
      "cell_type": "markdown",
      "source": [
        "Using the data generated above, calculate the following statistics without importing anything from the statistics module in the\n",
        "standard library (https://docs.python.org/3/library/statistics.html) and then confirm your results match up to those that are\n",
        "obtained when using the statistics module (where possible):\n",
        "\n",
        "Mean\n",
        "\n",
        "Median\n",
        "\n",
        "Mode (hint: check out the Counter in the collections module of the standard library at\n",
        "https://docs.python.org/3/library/collections.html#collections.Counter)\n",
        "\n",
        "Sample variance\n",
        "\n",
        "Sample standard deviation"
      ],
      "metadata": {
        "id": "YznNaKt2hw9t"
      }
    },
    {
      "cell_type": "markdown",
      "source": [
        "\n",
        "\n",
        "*   Mean\n",
        "\n"
      ],
      "metadata": {
        "id": "aeE0j4EPLetJ"
      }
    },
    {
      "cell_type": "code",
      "source": [
        "# Write a comment per statistical function\n",
        "def mean(dataset):\n",
        "  return sum(dataset) / len(dataset)\n",
        "\n",
        "print(mean(salaries))"
      ],
      "metadata": {
        "id": "qbBYgBJzh74N",
        "colab": {
          "base_uri": "https://localhost:8080/"
        },
        "outputId": "ee256535-6423-43fc-bd87-513509a6df86"
      },
      "execution_count": 8,
      "outputs": [
        {
          "output_type": "stream",
          "name": "stdout",
          "text": [
            "585690.0\n"
          ]
        }
      ]
    },
    {
      "cell_type": "markdown",
      "source": [
        "*  Median"
      ],
      "metadata": {
        "id": "DRZjt0LVLoCX"
      }
    },
    {
      "cell_type": "code",
      "source": [
        "# Write a comment per statistical function\n",
        "def median(dataset):\n",
        "    n = len(dataset)\n",
        "    sorted_dataset = sorted(dataset)\n",
        "    m = n // 2\n",
        "    if n % 2 == 0:\n",
        "        return (sorted_dataset[m-1] + sorted_dataset[m]) / 2\n",
        "    else:\n",
        "        return sorted_dataset[m]\n",
        "print(median(salaries))"
      ],
      "metadata": {
        "id": "F_3JaEs0LxkC",
        "colab": {
          "base_uri": "https://localhost:8080/"
        },
        "outputId": "99af87cf-5e49-45fa-f349-898ab9b94a14"
      },
      "execution_count": 9,
      "outputs": [
        {
          "output_type": "stream",
          "name": "stdout",
          "text": [
            "589000.0\n"
          ]
        }
      ]
    },
    {
      "cell_type": "markdown",
      "source": [
        "* Mode"
      ],
      "metadata": {
        "id": "hx7-jGjKL2Zh"
      }
    },
    {
      "cell_type": "code",
      "source": [
        "# Write a comment per statistical function\n",
        "def mode(dataset):\n",
        "    freq = {}\n",
        "    for num in dataset:\n",
        "        if num in freq:\n",
        "            freq[num] += 1\n",
        "        else:\n",
        "            freq[num] = 1\n",
        "    max_count = max(freq.values())\n",
        "    modes = [num for num, count in freq.items() if count == max_count]\n",
        "    return modes if len(modes) > 1 else modes[0]\n",
        "print(mode(salaries))"
      ],
      "metadata": {
        "id": "xAymHZ1JL5OO",
        "colab": {
          "base_uri": "https://localhost:8080/"
        },
        "outputId": "a3d6908e-2322-48bb-c74c-8aa85ff2b801"
      },
      "execution_count": 10,
      "outputs": [
        {
          "output_type": "stream",
          "name": "stdout",
          "text": [
            "477000.0\n"
          ]
        }
      ]
    },
    {
      "cell_type": "markdown",
      "source": [
        "* Sample Variance"
      ],
      "metadata": {
        "id": "d526wlnZM-a2"
      }
    },
    {
      "cell_type": "code",
      "source": [
        "# Write a comment per statistical function\n",
        "def Variance(dataset):\n",
        "  sum = 0\n",
        "  ave = mean(dataset)\n",
        "  n = len(dataset)\n",
        "  for i in dataset:\n",
        "    x = (i - ave) ** 2\n",
        "    sum += x\n",
        "  return sum / (n - 1)\n",
        "\n",
        "print(Variance(salaries))"
      ],
      "metadata": {
        "id": "7NUQ1hd3NCcd",
        "colab": {
          "base_uri": "https://localhost:8080/"
        },
        "outputId": "2c1147b3-6483-4a85-f824-925f9912e9f0"
      },
      "execution_count": 11,
      "outputs": [
        {
          "output_type": "stream",
          "name": "stdout",
          "text": [
            "70664054444.44444\n"
          ]
        }
      ]
    },
    {
      "cell_type": "markdown",
      "source": [
        "* Sample Standard Deviation"
      ],
      "metadata": {
        "id": "pY2X6L0JNGNa"
      }
    },
    {
      "cell_type": "code",
      "source": [
        "from math import sqrt\n",
        "# Write a comment per statistical function\n",
        "def SD(dataset):\n",
        "  print(sqrt(Variance(dataset)))\n",
        "  return (Variance(dataset)) ** 0.5\n",
        "\n",
        "print(SD(salaries))"
      ],
      "metadata": {
        "id": "rkbXklsQNKHZ",
        "colab": {
          "base_uri": "https://localhost:8080/"
        },
        "outputId": "fbfd1ec3-02d0-41a7-816f-2f3485881f35"
      },
      "execution_count": 12,
      "outputs": [
        {
          "output_type": "stream",
          "name": "stdout",
          "text": [
            "265827.11382484\n",
            "265827.11382484\n"
          ]
        }
      ]
    }
  ]
}