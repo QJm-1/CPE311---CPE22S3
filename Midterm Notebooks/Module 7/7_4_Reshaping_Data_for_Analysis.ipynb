{
  "nbformat": 4,
  "nbformat_minor": 0,
  "metadata": {
    "colab": {
      "private_outputs": true,
      "provenance": [],
      "cell_execution_strategy": "setup"
    },
    "kernelspec": {
      "name": "python3",
      "display_name": "Python 3"
    },
    "language_info": {
      "name": "python"
    }
  },
  "cells": [
    {
      "cell_type": "markdown",
      "source": [
        "# Reshaping Data\n"
      ],
      "metadata": {
        "id": "-PWT2HjJpYpn"
      }
    },
    {
      "cell_type": "code",
      "execution_count": null,
      "metadata": {
        "id": "39z3Mvaun9pb"
      },
      "outputs": [],
      "source": [
        "import pandas as pd\n",
        "long_df = pd.read_csv(\n",
        "    '/content/long_data.csv',\n",
        "    usecols=['date', 'datatype', 'value']\n",
        "  ).rename(\n",
        "    columns={\n",
        "    'value' : 'temp_C'\n",
        "  }\n",
        "  ).assign(\n",
        "    date=lambda x: pd.to_datetime(x.date),\n",
        "    temp_F=lambda x: (x.temp_C * 9/5) + 32\n",
        ")\n",
        "long_df.head()"
      ]
    },
    {
      "cell_type": "markdown",
      "source": [
        "# Transposing"
      ],
      "metadata": {
        "id": "Yh6mnyNOqWlr"
      }
    },
    {
      "cell_type": "code",
      "source": [
        "long_df.T"
      ],
      "metadata": {
        "id": "IbtMM0D4qRLs"
      },
      "execution_count": null,
      "outputs": []
    },
    {
      "cell_type": "markdown",
      "source": [
        "# Pivoting"
      ],
      "metadata": {
        "id": "4jdqKsl7qelE"
      }
    },
    {
      "cell_type": "code",
      "source": [
        "pivoted_df = long_df.pivot(\n",
        "  index='date', columns='datatype', values='temp_C'\n",
        ")\n",
        "pivoted_df.head()"
      ],
      "metadata": {
        "id": "Sstx5WeHqfDN"
      },
      "execution_count": null,
      "outputs": []
    },
    {
      "cell_type": "markdown",
      "source": [
        "Now that the data is pivoted, we have wide-format data that we can grab summary statistics with:"
      ],
      "metadata": {
        "id": "ICQb3Dz2rLBO"
      }
    },
    {
      "cell_type": "code",
      "source": [
        "pivoted_df.describe()"
      ],
      "metadata": {
        "id": "i3-C1KNerKt_"
      },
      "execution_count": null,
      "outputs": []
    },
    {
      "cell_type": "markdown",
      "source": [
        "We can also provide multiple values to pivot on, which will result in a hierarchical index:"
      ],
      "metadata": {
        "id": "NssYcyzotUdL"
      }
    },
    {
      "cell_type": "code",
      "source": [
        "pivoted_df = long_df.pivot(\n",
        "  index='date', columns='datatype', values=['temp_C', 'temp_F']\n",
        ")\n",
        "pivoted_df.head()"
      ],
      "metadata": {
        "id": "1AjgN8dPtQXH"
      },
      "execution_count": null,
      "outputs": []
    },
    {
      "cell_type": "markdown",
      "source": [
        "With the hierarchical index, if we want to select TMIN in Fahrenheit, we will first need to select 'temp_F' and then 'TMIN' :"
      ],
      "metadata": {
        "id": "QqF4Sf2Ita7R"
      }
    },
    {
      "cell_type": "code",
      "source": [
        "pivoted_df['temp_F']['TMIN'].head()"
      ],
      "metadata": {
        "id": "MsurLSSstayA"
      },
      "execution_count": null,
      "outputs": []
    },
    {
      "cell_type": "markdown",
      "source": [
        "We have been working with a single index throughout this chapter; however, we can create an index from any number of columns with set_index() . This gives us a\n",
        "MultiIndex where the outermost level corresponds to the first element in the list provided to set_index() :"
      ],
      "metadata": {
        "id": "hCyrJyLWthQu"
      }
    },
    {
      "cell_type": "code",
      "source": [
        "multi_index_df = long_df.set_index(['date', 'datatype'])\n",
        "multi_index_df.index"
      ],
      "metadata": {
        "id": "7IquIn_MthiE"
      },
      "execution_count": null,
      "outputs": []
    },
    {
      "cell_type": "markdown",
      "source": [
        "Notice there are now 2 index sections of the dataframe:"
      ],
      "metadata": {
        "id": "VfUjHjT0tr7l"
      }
    },
    {
      "cell_type": "code",
      "source": [
        "multi_index_df.head()"
      ],
      "metadata": {
        "id": "wsOWtTVjtsKK"
      },
      "execution_count": null,
      "outputs": []
    },
    {
      "cell_type": "markdown",
      "source": [
        "With the MultiIndex , we can no longer use pivot() . We must now use unstack() , which by default moves the innermost index onto the columns:"
      ],
      "metadata": {
        "id": "MelBL0Ait1vt"
      }
    },
    {
      "cell_type": "code",
      "source": [
        "unstacked_df = multi_index_df.unstack()\n",
        "unstacked_df.head()"
      ],
      "metadata": {
        "id": "edmloVHItyMD"
      },
      "execution_count": null,
      "outputs": []
    },
    {
      "cell_type": "markdown",
      "source": [
        "The unstack() method also provides the fill_value parameter, which let's us fill-in any NaN values that might arise from this restructuring of the data. Consider the\n",
        "case that we have data for the average temperature on October 1, 2018, but no other date"
      ],
      "metadata": {
        "id": "0l67UuOPt6Gl"
      }
    },
    {
      "cell_type": "code",
      "source": [
        "extra_data = long_df.append(\n",
        "  [{'datatype' : 'TAVG', 'date': '2018-10-01', 'temp_C': 10, 'temp_F': 50}]\n",
        ").set_index(['date', 'datatype']).sort_index()\n",
        "extra_data.head(8)"
      ],
      "metadata": {
        "id": "ry0jxLOQt53_"
      },
      "execution_count": null,
      "outputs": []
    },
    {
      "cell_type": "markdown",
      "source": [
        "If we use unstack() in this case, we will have NaN for the TAVG columns every day but October 1, 2018:"
      ],
      "metadata": {
        "id": "5epuhFoduDgK"
      }
    },
    {
      "cell_type": "code",
      "source": [
        "extra_data.unstack().head()"
      ],
      "metadata": {
        "id": "tvXbzTPPuEKT"
      },
      "execution_count": null,
      "outputs": []
    },
    {
      "cell_type": "markdown",
      "source": [
        "To address this, we can pass in an appropriate fill_value . However, we are restricted to passing in a value for this, not a strategy (like we saw with fillna() ), so while\n",
        "-40 is definitely not be the best value, we can use it to illustrate how this works, since this is the temperature at which Fahrenheit and Celsius are equal:"
      ],
      "metadata": {
        "id": "7wKETRb6uH0z"
      }
    },
    {
      "cell_type": "code",
      "source": [
        "extra_data.unstack(fill_value=-40).head()"
      ],
      "metadata": {
        "id": "nflg2d09uMOB"
      },
      "execution_count": null,
      "outputs": []
    },
    {
      "cell_type": "markdown",
      "source": [
        "# Melting"
      ],
      "metadata": {
        "id": "klDi2zOPuPq9"
      }
    },
    {
      "cell_type": "markdown",
      "source": [
        "Going from wide to long format."
      ],
      "metadata": {
        "id": "m3PU4PXvujSy"
      }
    },
    {
      "cell_type": "markdown",
      "source": [
        "## Setup"
      ],
      "metadata": {
        "id": "WMFjkAzjukUm"
      }
    },
    {
      "cell_type": "code",
      "source": [
        "wide_df = pd.read_csv('/content/sample_data/wide_data.csv')\n",
        "wide_df.head()"
      ],
      "metadata": {
        "id": "Edhz744uukEY"
      },
      "execution_count": null,
      "outputs": []
    },
    {
      "cell_type": "markdown",
      "source": [
        "In order to go from wide format to long format, we use the melt() method. We have to specify:\n",
        "- which column contains the unique identifier for each row ( date , here) to id_vars\n",
        "- The column(s) that contain the values ( TMAX , TMIN , and TOBS , here) to value_vars\n",
        "\n",
        "Optionally, we can also provide:\n",
        "- value_name : what to call the column that will contain all the values once melted\n",
        "- var_name : what to call the column that will contain the names of the variables being measured\n"
      ],
      "metadata": {
        "id": "r4J5-VIavJHB"
      }
    },
    {
      "cell_type": "code",
      "source": [
        "melted_df = wide_df.melt(\n",
        "    id_vars='date',\n",
        "    value_vars=['TMAX', 'TMIN', 'TOBS'],\n",
        "    value_name='temp_C',\n",
        "    var_name='measurement'\n",
        ")\n",
        "melted_df.head()"
      ],
      "metadata": {
        "id": "d4h5f8N3uY_I"
      },
      "execution_count": null,
      "outputs": []
    },
    {
      "cell_type": "code",
      "source": [
        "pd.melt(\n",
        "  wide_df,\n",
        "  id_vars='date',\n",
        "  value_vars=['TMAX', 'TMIN', 'TOBS'],\n",
        "  value_name='temp_C',\n",
        "  var_name='measurement'\n",
        ").head()"
      ],
      "metadata": {
        "id": "xpXfMDFVviWC"
      },
      "execution_count": null,
      "outputs": []
    },
    {
      "cell_type": "markdown",
      "source": [
        "Another option is stack() which will pivot the columns of the dataframe into the innermost level of a MultiIndex . To illustrate this, let's set our index to be the date\n",
        "column:"
      ],
      "metadata": {
        "id": "YFJL4dK6vp9K"
      }
    },
    {
      "cell_type": "code",
      "source": [
        "wide_df.set_index('date', inplace=True)\n",
        "wide_df.head()"
      ],
      "metadata": {
        "id": "exaEAxpLvnIm"
      },
      "execution_count": null,
      "outputs": []
    },
    {
      "cell_type": "markdown",
      "source": [
        "By running stack() now, we will create a second level in our index which will contain the column names of our dataframe ( TMAX , TMIN , TOBS ). This will leave us with a\n",
        "Series containing the values:"
      ],
      "metadata": {
        "id": "gZN0TeXRvuDG"
      }
    },
    {
      "cell_type": "code",
      "source": [
        "stacked_series = wide_df.stack()\n",
        "stacked_series.head()"
      ],
      "metadata": {
        "id": "leGc6UGJvtui"
      },
      "execution_count": null,
      "outputs": []
    },
    {
      "cell_type": "markdown",
      "source": [
        "We can use the to_frame() method on our Series object to turn it into a DataFrame . Since the series doesn't have a name at the moment, we will pass in the name as\n",
        "an argument:"
      ],
      "metadata": {
        "id": "AP23Zxtdv26n"
      }
    },
    {
      "cell_type": "code",
      "source": [
        "stacked_df = stacked_series.to_frame('values')\n",
        "stacked_df.head()"
      ],
      "metadata": {
        "id": "LkCPhMhJv0ol"
      },
      "execution_count": null,
      "outputs": []
    },
    {
      "cell_type": "markdown",
      "source": [
        "Once again, we have a MultiIndex"
      ],
      "metadata": {
        "id": "Y3LedvZOv7Xf"
      }
    },
    {
      "cell_type": "code",
      "source": [
        "stacked_df.index"
      ],
      "metadata": {
        "id": "eojLRykdv_iR"
      },
      "execution_count": null,
      "outputs": []
    },
    {
      "cell_type": "code",
      "source": [
        "stacked_df.index.names"
      ],
      "metadata": {
        "id": "-YiYJgGxwEMr"
      },
      "execution_count": null,
      "outputs": []
    },
    {
      "cell_type": "code",
      "source": [
        "stacked_df.index.rename(['date', 'datatype'], inplace=True)\n",
        "stacked_df.index.names"
      ],
      "metadata": {
        "id": "AoF8vMh8wG0S"
      },
      "execution_count": null,
      "outputs": []
    }
  ]
}