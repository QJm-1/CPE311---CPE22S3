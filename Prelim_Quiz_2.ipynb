{
  "nbformat": 4,
  "nbformat_minor": 0,
  "metadata": {
    "colab": {
      "provenance": []
    },
    "kernelspec": {
      "name": "python3",
      "display_name": "Python 3"
    },
    "language_info": {
      "name": "python"
    }
  },
  "cells": [
    {
      "cell_type": "code",
      "execution_count": null,
      "metadata": {
        "id": "8PBqgzmGBRbz"
      },
      "outputs": [],
      "source": [
        "def Making_Change(n, V, C):\n",
        "  if"
      ]
    },
    {
      "cell_type": "code",
      "source": [
        "class Making_Change:\n",
        "  def __init__(self):\n",
        "    self.V = v\n",
        "    self.v = v(len)\n",
        "    self.c = C\n",
        "  def making_change(n, v, C):\n",
        "    if v(1) < v(2)\n",
        "    v(1) = 1\n",
        "    else:\n",
        "      print(\"Too many coins!\")\n",
        "\n",
        "\n"
      ],
      "metadata": {
        "id": "EXShPJEvD3Tf"
      },
      "execution_count": null,
      "outputs": []
    }
  ]
}